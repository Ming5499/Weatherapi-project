{
 "cells": [
  {
   "cell_type": "code",
   "execution_count": 3,
   "metadata": {},
   "outputs": [],
   "source": [
    "from kafka import KafkaProducer\n",
    "import requests\n",
    "import json\n",
    "\n",
    "kafka_booststrap_servers = 'localhost:9092'\n",
    "kafka_topic_name = 'weather_test'\n",
    "\n",
    "producer = KafkaProducer(bootstrap_servers=kafka_booststrap_servers,\n",
    "                         value_serializer = lambda v: json.dumps(v).encode('utf-8'))"
   ]
  },
  {
   "cell_type": "code",
   "execution_count": 4,
   "metadata": {},
   "outputs": [
    {
     "name": "stdout",
     "output_type": "stream",
     "text": [
      "https://api.openweathermap.org/data/2.5/weather?q=hanoi&APPID=fce40c3ad84e88aba9f09388dc5ca04e\n"
     ]
    }
   ],
   "source": [
    "import time\n",
    "import json\n",
    "\n",
    "import requests\n",
    "\n",
    "\n",
    "\n",
    "city_name = \"hanoi\"\n",
    "base_url = \"https://api.openweathermap.org/data/2.5/weather?q=\"\n",
    "\n",
    "    #Take API key\n",
    "with open(\"credentials.txt\",  'r') as c:\n",
    "        api_key = c.read()\n",
    "    \n",
    "    #https://api.openweathermap.org/data/2.5/weather?q=danang&appid=fce40c3ad84e88aba9f09388dc5ca04e    \n",
    "full_url = base_url + city_name + \"&APPID=\" + api_key\n",
    "print(full_url)\n",
    "\n",
    "\n",
    "    "
   ]
  },
  {
   "cell_type": "code",
   "execution_count": 5,
   "metadata": {},
   "outputs": [
    {
     "data": {
      "text/plain": [
       "{'CityName': 'Hanoi',\n",
       " 'Temperature': 30.0,\n",
       " 'Humidity': 70,\n",
       " 'CreatOnTime': '2023-09-18 13:13:41'}"
      ]
     },
     "execution_count": 5,
     "metadata": {},
     "output_type": "execute_result"
    }
   ],
   "source": [
    "def kelvin_to_celsius(kelvin):\n",
    "    celsius = kelvin - 273.15\n",
    "    return celsius\n",
    "\n",
    "\n",
    "def get_weather_detail(full_url):\n",
    "    \n",
    "\n",
    "    r = requests.get(full_url)\n",
    "    #Get data\n",
    "    data = r.json()\n",
    "\n",
    "\n",
    "    city_name = data[\"name\"]\n",
    "    temp_celsius = kelvin_to_celsius(data[\"main\"][\"temp\"])\n",
    "    humidity = data[\"main\"][\"humidity\"]\n",
    "    \n",
    "    json_message = {'CityName': city_name,'Temperature': temp_celsius,'Humidity': humidity, 'CreatOnTime': time.strftime(\"%Y-%m-%d %H:%M:%S\")}\n",
    "    return json_message\n",
    "\n",
    "get_weather_detail(full_url)\n"
   ]
  },
  {
   "cell_type": "code",
   "execution_count": 7,
   "metadata": {},
   "outputs": [
    {
     "name": "stdout",
     "output_type": "stream",
     "text": [
      "Pulished message 1:{\"CityName\": \"Hanoi\", \"Temperature\": 30.0, \"Humidity\": 70, \"CreatOnTime\": \"2023-09-18 13:14:00\"}\n",
      "Wait for 3 seconds ...\n",
      "Pulished message 1:{\"CityName\": \"Hanoi\", \"Temperature\": 30.0, \"Humidity\": 70, \"CreatOnTime\": \"2023-09-18 13:14:03\"}\n",
      "Wait for 3 seconds ...\n",
      "Pulished message 1:{\"CityName\": \"Hanoi\", \"Temperature\": 30.0, \"Humidity\": 70, \"CreatOnTime\": \"2023-09-18 13:14:06\"}\n",
      "Wait for 3 seconds ...\n",
      "Pulished message 1:{\"CityName\": \"Hanoi\", \"Temperature\": 30.0, \"Humidity\": 70, \"CreatOnTime\": \"2023-09-18 13:14:10\"}\n",
      "Wait for 3 seconds ...\n",
      "Pulished message 1:{\"CityName\": \"Hanoi\", \"Temperature\": 30.0, \"Humidity\": 70, \"CreatOnTime\": \"2023-09-18 13:14:13\"}\n",
      "Wait for 3 seconds ...\n"
     ]
    },
    {
     "ename": "KeyboardInterrupt",
     "evalue": "",
     "output_type": "error",
     "traceback": [
      "\u001b[1;31m---------------------------------------------------------------------------\u001b[0m",
      "\u001b[1;31mKeyboardInterrupt\u001b[0m                         Traceback (most recent call last)",
      "\u001b[1;32mc:\\Users\\Admin\\Desktop\\VSCode\\Git\\openweather_etl\\test1.ipynb Cell 4\u001b[0m line \u001b[0;36m<cell line: 1>\u001b[1;34m()\u001b[0m\n\u001b[0;32m      <a href='vscode-notebook-cell:/c%3A/Users/Admin/Desktop/VSCode/Git/openweather_etl/test1.ipynb#W3sZmlsZQ%3D%3D?line=6'>7</a>\u001b[0m \u001b[39mprint\u001b[39m(\u001b[39m'\u001b[39m\u001b[39mPulished message 1:\u001b[39m\u001b[39m'\u001b[39m \u001b[39m+\u001b[39m json\u001b[39m.\u001b[39mdumps(json_message))\n\u001b[0;32m      <a href='vscode-notebook-cell:/c%3A/Users/Admin/Desktop/VSCode/Git/openweather_etl/test1.ipynb#W3sZmlsZQ%3D%3D?line=7'>8</a>\u001b[0m \u001b[39mprint\u001b[39m(\u001b[39m'\u001b[39m\u001b[39mWait for 3 seconds ...\u001b[39m\u001b[39m'\u001b[39m)\n\u001b[1;32m----> <a href='vscode-notebook-cell:/c%3A/Users/Admin/Desktop/VSCode/Git/openweather_etl/test1.ipynb#W3sZmlsZQ%3D%3D?line=8'>9</a>\u001b[0m time\u001b[39m.\u001b[39;49msleep(\u001b[39m3\u001b[39;49m)\n",
      "\u001b[1;31mKeyboardInterrupt\u001b[0m: "
     ]
    }
   ],
   "source": [
    "while True:\n",
    "    city_name = \"hanoi\"\n",
    "    # appid = get_appid(appid)\n",
    "    full_url = base_url + city_name + \"&APPID=\" + api_key\n",
    "    json_message = get_weather_detail(full_url) \n",
    "    producer.send(kafka_topic_name,json_message)\n",
    "    print('Pulished message 1:' + json.dumps(json_message))\n",
    "    print('Wait for 5 seconds ...')\n",
    "    time.sleep(5)\n",
    "    \n",
    "    city_name = \"danang\"\n",
    "    # appid = get_appid(appid)\n",
    "    full_url = base_url + city_name + \"&APPID=\" + api_key\n",
    "    json_message = get_weather_detail(full_url) \n",
    "    producer.send(kafka_topic_name,json_message)\n",
    "    print('Pulished message 2:' + json.dumps(json_message))\n",
    "    print('Wait for 5 seconds ...')\n",
    "    time.sleep(5)\n",
    "    \n",
    "    city_name = \"hue\"\n",
    "    # appid = get_appid(appid)\n",
    "    full_url = base_url + city_name + \"&APPID=\" + api_key\n",
    "    json_message = get_weather_detail(full_url) \n",
    "    producer.send(kafka_topic_name,json_message)\n",
    "    print('Pulished message 3:' + json.dumps(json_message))\n",
    "    print('Wait for 5 seconds ...')\n",
    "    time.sleep(5)\n",
    "    "
   ]
  }
 ],
 "metadata": {
  "kernelspec": {
   "display_name": "Python 3",
   "language": "python",
   "name": "python3"
  },
  "language_info": {
   "codemirror_mode": {
    "name": "ipython",
    "version": 3
   },
   "file_extension": ".py",
   "mimetype": "text/x-python",
   "name": "python",
   "nbconvert_exporter": "python",
   "pygments_lexer": "ipython3",
   "version": "3.10.2"
  },
  "orig_nbformat": 4
 },
 "nbformat": 4,
 "nbformat_minor": 2
}
